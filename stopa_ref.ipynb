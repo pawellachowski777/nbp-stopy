{
 "cells": [
  {
   "cell_type": "code",
   "execution_count": 52,
   "id": "b9f15213",
   "metadata": {},
   "outputs": [],
   "source": [
    "import pandas as pd\n",
    "from bs4 import BeautifulSoup\n",
    "import requests\n",
    "import numpy as np\n",
    "import urllib3\n",
    "urllib3.disable_warnings()"
   ]
  },
  {
   "cell_type": "code",
   "execution_count": 53,
   "id": "f8d2d432",
   "metadata": {},
   "outputs": [],
   "source": [
    "path = r\"https://www.nbp.pl/home.aspx?f=/dzienne/stopy_archiwum.htm\"\n",
    "page = requests.get(path, verify=False)\n",
    "soup = BeautifulSoup(page.content, 'html.parser')"
   ]
  },
  {
   "cell_type": "code",
   "execution_count": 61,
   "id": "f9416bd3",
   "metadata": {
    "scrolled": true
   },
   "outputs": [],
   "source": [
    "def download_data(soup):\n",
    "    html_data = soup.find_all('tr', {'valign': 'middle'})\n",
    "\n",
    "    rows = []\n",
    "    for tr in html_data:\n",
    "        td = tr.find_all('td')\n",
    "        row = [tr.text.replace(\" \", \"\").replace(\",\", \".\") for tr in td]\n",
    "\n",
    "        # wyrzucenie pustych wierszy i wierszy z samym rokiem\n",
    "        try:\n",
    "            int(row[0])\n",
    "        except (IndexError, TypeError, ValueError):\n",
    "            if row:\n",
    "                rows.append(row)\n",
    "\n",
    "    nbp_df = pd.DataFrame(rows, \n",
    "                          columns=['obowiązuje_od', 'stopa_referencyjna', 'stopa_lombartowa', 'stopa_depozytowa', \n",
    "                                   'stopa_redyskontowa_weksli', 'stopa_dyskontowa_weksli'])\n",
    "    nbp_df.replace(\"*\", None, inplace=True)\n",
    "    \n",
    "    # stringi na liczby i datę\n",
    "    nbp_df.iloc[:,1:] = nbp_df.iloc[:,1:].astype(float)\n",
    "    nbp_df['obowiązuje_od'] = pd.to_datetime(nbp_df['obowiązuje_od'])\n",
    "    nbp_df['obowiązuje_od'] = nbp_df['obowiązuje_od'].dt.date\n",
    "    \n",
    "    return nbp_df"
   ]
  },
  {
   "cell_type": "code",
   "execution_count": 62,
   "id": "9818f1ae",
   "metadata": {},
   "outputs": [],
   "source": [
    "path = r\"https://www.nbp.pl/home.aspx?f=/dzienne/stopy_archiwum.htm\"\n",
    "page = requests.get(path, verify=False)\n",
    "soup = BeautifulSoup(page.content, 'html.parser')\n",
    "\n",
    "nbp_df = download_data(soup)"
   ]
  },
  {
   "cell_type": "code",
   "execution_count": 63,
   "id": "4f085a75",
   "metadata": {},
   "outputs": [],
   "source": [
    "nbp_df.to_excel('stopy_nbp.xlsx', index=False)"
   ]
  },
  {
   "cell_type": "code",
   "execution_count": 60,
   "id": "f18469da",
   "metadata": {},
   "outputs": [
    {
     "data": {
      "text/plain": [
       "0     1998-02-26\n",
       "1     1998-04-23\n",
       "2     1998-05-21\n",
       "3     1998-07-17\n",
       "4     1998-09-10\n",
       "         ...    \n",
       "81    2022-03-09\n",
       "82    2022-04-07\n",
       "83    2022-05-06\n",
       "84    2022-06-09\n",
       "85    2022-07-08\n",
       "Name: obowiązuje_od, Length: 86, dtype: object"
      ]
     },
     "execution_count": 60,
     "metadata": {},
     "output_type": "execute_result"
    }
   ],
   "source": [
    "nbp_df['obowiązuje_od'].dt.date"
   ]
  },
  {
   "cell_type": "code",
   "execution_count": null,
   "id": "84ee9539",
   "metadata": {},
   "outputs": [],
   "source": []
  }
 ],
 "metadata": {
  "kernelspec": {
   "display_name": "Python 3 (ipykernel)",
   "language": "python",
   "name": "python3"
  },
  "language_info": {
   "codemirror_mode": {
    "name": "ipython",
    "version": 3
   },
   "file_extension": ".py",
   "mimetype": "text/x-python",
   "name": "python",
   "nbconvert_exporter": "python",
   "pygments_lexer": "ipython3",
   "version": "3.8.0"
  }
 },
 "nbformat": 4,
 "nbformat_minor": 5
}
